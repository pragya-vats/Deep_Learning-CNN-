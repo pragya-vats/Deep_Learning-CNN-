{
  "nbformat": 4,
  "nbformat_minor": 0,
  "metadata": {
    "colab": {
      "provenance": []
    },
    "kernelspec": {
      "name": "python3",
      "display_name": "Python 3"
    },
    "language_info": {
      "name": "python"
    }
  },
  "cells": [
    {
      "cell_type": "markdown",
      "source": [
        "## Convolutional Neural Network\n",
        "**Problem Statement** - Apply data augmentation techniques(rotation, zoom, width shift , height shift and horizontal flip) for the following images."
      ],
      "metadata": {
        "id": "AiKH-th9C0ES"
      }
    },
    {
      "cell_type": "code",
      "source": [
        "#importing necessary libraries\n",
        "import numpy as np\n",
        "import os\n",
        "from skimage import io\n",
        "from PIL import Image\n",
        "from keras.preprocessing.image import ImageDataGenerator"
      ],
      "metadata": {
        "id": "AXFafjeuQ_WR"
      },
      "execution_count": 22,
      "outputs": []
    },
    {
      "cell_type": "code",
      "source": [
        "#Data Augmentation using ImageDataGenerator\n",
        "datagen = ImageDataGenerator(\n",
        "        rotation_range=90,        #rotation \n",
        "        width_shift_range=0.2,    #width shift\n",
        "        height_shift_range=0.2,   #height shift \n",
        "        zoom_range=0.5,           #zoom\n",
        "        horizontal_flip=True,     #horizontal flip\n",
        "        fill_mode='constant') "
      ],
      "metadata": {
        "id": "aHMjQ_1G5zP0"
      },
      "execution_count": 19,
      "outputs": []
    },
    {
      "cell_type": "code",
      "source": [
        "#Resizing all the images to a fixed size\n",
        "image_directory = '/content/images'\n",
        "SIZE = 128\n",
        "dataset = []"
      ],
      "metadata": {
        "id": "PXwQZQbu4IVI"
      },
      "execution_count": 20,
      "outputs": []
    },
    {
      "cell_type": "code",
      "source": [
        "# reading all the images and convering them into numpy array\n",
        "my_images = os.listdir(image_directory)\n",
        "for i, image_name in enumerate(my_images):\n",
        "    if (image_name.split('.')[1] == 'jpg'):\n",
        "        image = io.imread(image_directory+\"/\"+image_name)\n",
        "        image = Image.fromarray(image, 'RGB')\n",
        "        image = image.resize((SIZE,SIZE))\n",
        "        dataset.append(np.array(image))\n",
        "x = np.array(dataset)"
      ],
      "metadata": {
        "id": "PGYkE4QK4Pr7"
      },
      "execution_count": 21,
      "outputs": []
    },
    {
      "cell_type": "code",
      "source": [
        "#iterating through all the images and saving the augmented images in a folder\n",
        "i = 0\n",
        "for batch in datagen.flow(x, batch_size=16,  \n",
        "                          save_to_dir='augmented', \n",
        "                          save_prefix='aug', \n",
        "                          save_format='png'):\n",
        "    i += 1\n",
        "    if i > 20:\n",
        "        break "
      ],
      "metadata": {
        "id": "1bLLJRk_4oL_"
      },
      "execution_count": 15,
      "outputs": []
    }
  ]
}